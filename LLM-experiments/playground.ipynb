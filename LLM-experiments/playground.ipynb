{
 "cells": [
  {
   "cell_type": "markdown",
   "metadata": {},
   "source": [
    "### Downloading mlewd"
   ]
  },
  {
   "cell_type": "code",
   "execution_count": 5,
   "metadata": {},
   "outputs": [],
   "source": [
    "from transformers import AutoTokenizer, AutoModelForCausalLM\n",
    "import torch"
   ]
  },
  {
   "cell_type": "code",
   "execution_count": 5,
   "metadata": {},
   "outputs": [],
   "source": [
    "save_path = '/Users/selwin/Documents/Work/MENS Chat/mlewd'"
   ]
  },
  {
   "cell_type": "code",
   "execution_count": 6,
   "metadata": {},
   "outputs": [],
   "source": [
    "tokenizer = AutoTokenizer.from_pretrained(\"/Users/selwin/Documents/Work/MENS Chat/mlewd\")"
   ]
  },
  {
   "cell_type": "code",
   "execution_count": 7,
   "metadata": {},
   "outputs": [
    {
     "data": {
      "application/vnd.jupyter.widget-view+json": {
       "model_id": "259f7f8f7e784065b426edd24d964610",
       "version_major": 2,
       "version_minor": 0
      },
      "text/plain": [
       "Loading checkpoint shards:   0%|          | 0/11 [00:00<?, ?it/s]"
      ]
     },
     "metadata": {},
     "output_type": "display_data"
    }
   ],
   "source": [
    "model = AutoModelForCausalLM.from_pretrained(\"/Users/selwin/Documents/Work/MENS Chat/mlewd\", torch_dtype=torch.bfloat16, low_cpu_mem_usage=True, trust_remote_code=True)"
   ]
  },
  {
   "cell_type": "code",
   "execution_count": null,
   "metadata": {},
   "outputs": [],
   "source": [
    "# tokenizer.save_pretrained('/Users/selwin/Documents/Work/MENS Chat/mlewd_tokenizer')"
   ]
  },
  {
   "cell_type": "code",
   "execution_count": null,
   "metadata": {},
   "outputs": [],
   "source": [
    "# model.save_pretrained('/Users/selwin/Documents/Work/MENS Chat/mlewd_model')"
   ]
  },
  {
   "cell_type": "code",
   "execution_count": 8,
   "metadata": {},
   "outputs": [
    {
     "data": {
      "text/plain": [
       "LlamaForCausalLM(\n",
       "  (model): LlamaModel(\n",
       "    (embed_tokens): Embedding(32000, 5120)\n",
       "    (layers): ModuleList(\n",
       "      (0-39): 40 x LlamaDecoderLayer(\n",
       "        (self_attn): LlamaAttention(\n",
       "          (q_proj): Linear(in_features=5120, out_features=5120, bias=False)\n",
       "          (k_proj): Linear(in_features=5120, out_features=5120, bias=False)\n",
       "          (v_proj): Linear(in_features=5120, out_features=5120, bias=False)\n",
       "          (o_proj): Linear(in_features=5120, out_features=5120, bias=False)\n",
       "          (rotary_emb): LlamaRotaryEmbedding()\n",
       "        )\n",
       "        (mlp): LlamaMLP(\n",
       "          (gate_proj): Linear(in_features=5120, out_features=13824, bias=False)\n",
       "          (up_proj): Linear(in_features=5120, out_features=13824, bias=False)\n",
       "          (down_proj): Linear(in_features=13824, out_features=5120, bias=False)\n",
       "          (act_fn): SiLU()\n",
       "        )\n",
       "        (input_layernorm): LlamaRMSNorm()\n",
       "        (post_attention_layernorm): LlamaRMSNorm()\n",
       "      )\n",
       "    )\n",
       "    (norm): LlamaRMSNorm()\n",
       "  )\n",
       "  (lm_head): Linear(in_features=5120, out_features=32000, bias=False)\n",
       ")"
      ]
     },
     "execution_count": 8,
     "metadata": {},
     "output_type": "execute_result"
    }
   ],
   "source": [
    "model.eval()  # Set the model to evaluation mode"
   ]
  },
  {
   "cell_type": "code",
   "execution_count": 11,
   "metadata": {},
   "outputs": [
    {
     "name": "stdout",
     "output_type": "stream",
     "text": [
      "You: Hello, I am horny as fuck. \n",
      "Them: Hello, I am horny as fuck.  I am a\n"
     ]
    }
   ],
   "source": [
    "conversation = 'Man:\\n'\n",
    "message = True\n",
    "while message:\n",
    "    message = input(\"Your message here: \")\n",
    "    if message: \n",
    "        print(\"You: \" + message)\n",
    "        conversation += \"f{message}\\nWoman:\\n\"\n",
    "        input_ids = tokenizer.encode(message, return_tensors='pt')\n",
    "        with torch.no_grad():\n",
    "            output = model.generate(input_ids, pad_token_id=tokenizer.eos_token_id, max_new_tokens=3)\n",
    "        reply = tokenizer.decode(output[0], skip_special_tokens=True)\n",
    "        print(\"Them: \" + reply)\n",
    "        conversation += f\"{reply}\\nMan:\\n\""
   ]
  },
  {
   "cell_type": "code",
   "execution_count": 11,
   "metadata": {},
   "outputs": [],
   "source": [
    "# input_text = \"User:\\nI want to fuck anything. Do you want to fuck me?\\nYou:\\n\"\n",
    "# input_ids = tokenizer.encode(input_text, return_tensors='pt')\n",
    "# print(input_ids)\n",
    "# with torch.no_grad():\n",
    "#     output = model.generate(input_ids, pad_token_id=tokenizer.eos_token_id, max_new_tokens=50)\n",
    "# reply = tokenizer.decode(output[0], skip_special_tokens=True)"
   ]
  },
  {
   "cell_type": "code",
   "execution_count": 12,
   "metadata": {},
   "outputs": [],
   "source": []
  },
  {
   "cell_type": "markdown",
   "metadata": {},
   "source": []
  },
  {
   "cell_type": "markdown",
   "metadata": {},
   "source": []
  },
  {
   "cell_type": "markdown",
   "metadata": {},
   "source": [
    "### Elevenlabs voice"
   ]
  },
  {
   "cell_type": "code",
   "execution_count": null,
   "metadata": {},
   "outputs": [],
   "source": [
    "# The 'requests' and 'json' libraries are imported. \n",
    "# 'requests' is used to send HTTP requests, while 'json' is used for parsing the JSON data that we receive from the API.\n",
    "import requests\n",
    "import json\n",
    "\n",
    "# An API key is defined here. You'd normally get this from the service you're accessing. It's a form of authentication.\n",
    "XI_API_KEY = \"fd0bd17cce0e30fc5f08a0c25e717aee\"\n",
    "\n",
    "# This is the URL for the API endpoint we'll be making a GET request to.\n",
    "url = \"https://api.elevenlabs.io/v1/voices\"\n",
    "\n",
    "# Here, headers for the HTTP request are being set up. \n",
    "# Headers provide metadata about the request. In this case, we're specifying the content type and including our API key for authentication.\n",
    "headers = {\n",
    "\"Accept\": \"application/json\",\n",
    "\"xi-api-key\": XI_API_KEY,\n",
    "\"Content-Type\": \"application/json\"\n",
    "}\n",
    "\n",
    "# A GET request is sent to the API endpoint. The URL and the headers are passed into the request.\n",
    "response = requests.get(url, headers=headers)\n",
    "\n",
    "# The JSON response from the API is parsed using the built-in .json() method from the 'requests' library. \n",
    "# This transforms the JSON data into a Python dictionary for further processing.\n",
    "data = response.json()\n",
    "\n",
    "# A loop is created to iterate over each 'voice' in the 'voices' list from the parsed data. \n",
    "# The 'voices' list consists of dictionaries, each representing a unique voice provided by the API.\n",
    "for voice in data['voices']:\n",
    "# For each 'voice', the 'name' and 'voice_id' are printed out. \n",
    "# These keys in the voice dictionary contain values that provide information about the specific voice.\n",
    "    print(voice)\n",
    "    # print(f\"{voice['name']}; {voice['voice_id']}\")"
   ]
  }
 ],
 "metadata": {
  "kernelspec": {
   "display_name": "Python 3",
   "language": "python",
   "name": "python3"
  },
  "language_info": {
   "codemirror_mode": {
    "name": "ipython",
    "version": 3
   },
   "file_extension": ".py",
   "mimetype": "text/x-python",
   "name": "python",
   "nbconvert_exporter": "python",
   "pygments_lexer": "ipython3",
   "version": "3.10.9"
  }
 },
 "nbformat": 4,
 "nbformat_minor": 2
}
